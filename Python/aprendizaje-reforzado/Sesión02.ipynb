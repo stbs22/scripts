{
  "cells": [
    {
      "cell_type": "markdown",
      "metadata": {
        "id": "pA7ED_f-6h__"
      },
      "source": [
        "**Postgrado UAI**\n",
        "\n",
        "Aprendizaje Reforzado para Sistemas Autónomos - [Prof. Miguel Solis](http://www.miguelsolis.info)\n",
        "\n",
        "Sesión 02 - 09 de agosto de 2023"
      ]
    },
    {
      "cell_type": "code",
      "execution_count": 6,
      "metadata": {
        "collapsed": true,
        "id": "jSuaEYod6dcH"
      },
      "outputs": [],
      "source": [
        "import numpy as np"
      ]
    },
    {
      "cell_type": "code",
      "execution_count": 5,
      "metadata": {
        "collapsed": true,
        "id": "Kt1pGIIE6dcR"
      },
      "outputs": [],
      "source": [
        "# Ejemplo 1 - Construcción de grilla\n",
        "\n",
        "class Mapa:\n",
        "\n",
        "    def __init__(self,ancho,alto,inicio):\n",
        "        self.ancho = ancho\n",
        "        self.alto = alto\n",
        "        self.fila = inicio[0]\n",
        "        self.columna = inicio[1]\n",
        "\n",
        "    def conjunto(self,recompensas,acciones):\n",
        "        self.recompensas = recompensas # diccionario de posibles recompensas para cada estado (fila,columna) : r\n",
        "        self.acciones = acciones # diccionario de posibles acciones para cada estado (fila,columna) : ('U','D','L','R')\n",
        "\n",
        "    def fijar_estado(self,s):\n",
        "        self.fila = s[0]\n",
        "        self.columna = s[1]\n",
        "\n",
        "    def estado_actual(self):\n",
        "        return (self.fila,self.columna)\n",
        "\n",
        "    def es_final(self,s):\n",
        "        return s not in self.acciones\n",
        "\n",
        "    def mover(self,accion):\n",
        "        if accion in self.acciones[self.estado_actual()] :\n",
        "            if accion == 'U':\n",
        "                self.fila -= 1\n",
        "            elif accion == 'D':\n",
        "                self.fila += 1\n",
        "            elif accion == 'L':\n",
        "                self.columna -= 1\n",
        "            elif accion == 'R':\n",
        "                self.columna += 1\n",
        "        return self.recompensas.get(self.estado_actual(),0)\n",
        "\n",
        "    def deshacer(self,accion):\n",
        "        if accion in self.acciones[self.estado_actual()] :\n",
        "            if accion == 'U':\n",
        "                self.fila += 1\n",
        "            elif accion == 'D':\n",
        "                self.fila -= 1\n",
        "            elif accion == 'L':\n",
        "                self.columna += 1\n",
        "            elif accion == 'R':\n",
        "                self.columna -= 1\n",
        "        assert(self.estado_actual() in self.todos_estados())\n",
        "\n",
        "    def fin(self):\n",
        "        return self.estado_actual not in self.acciones\n",
        "\n",
        "    def todos_estados(self):\n",
        "        return set(list(self.acciones.keys()) + list(self.recompensas.keys()))"
      ]
    },
    {
      "cell_type": "code",
      "execution_count": 19,
      "metadata": {
        "collapsed": true,
        "id": "mkVqC0ca6dcV"
      },
      "outputs": [],
      "source": [
        "# Ejemplo 1 - Configuración del problema\n",
        "\n",
        "def mapa_con_costo(costo_paso = -0.1):\n",
        "    g = Mapa(4,3,(2,0)) # ancho de 4 celdas, alto de 3 celdas y posición inicial en (2,0)\n",
        "    recompensas = {(0,3) : 1, (1,3):-1}\n",
        "    acciones = {\n",
        "        (0,0) : ('D','R'),\n",
        "        (0,1) : ('L','R'),\n",
        "        (0,2) : ('L','R','D'),\n",
        "#        (0,3) : ('',),\n",
        "        (1,0) : ('U','D'),\n",
        "#        (1,1) : ('',),\n",
        "        (1,2) : ('U','D','R'),\n",
        "#        (1,3) : ('',),\n",
        "        (2,0) : ('U','R'),\n",
        "        (2,1) : ('L','R'),\n",
        "        (2,2) : ('U','L','R'),\n",
        "        (2,3) : ('L','U')\n",
        "        }\n",
        "    g.conjunto(recompensas,acciones)\n",
        "    recompensas = {}\n",
        "    for fila in range(g.alto):\n",
        "        for columna in range(g.ancho):\n",
        "            recompensas[(fila,columna)] = costo_paso\n",
        "    recompensas[(0,3)] = 1\n",
        "    recompensas[(1,3)] = -1\n",
        "    recompensas.pop((1,1),None)\n",
        "    g.conjunto(recompensas,g.acciones)\n",
        "    return g"
      ]
    },
    {
      "cell_type": "code",
      "execution_count": 20,
      "metadata": {
        "collapsed": true,
        "id": "DQmGuKnr6dcW"
      },
      "outputs": [],
      "source": [
        "# Ejemplo 1 - Mostrar valores\n",
        "def mostrar_valores(V,g):\n",
        "    for fila in range(g.alto):\n",
        "        print(20*\"-\")\n",
        "        for columna in range(g.ancho):\n",
        "            v = V.get((fila,columna),0)\n",
        "\n",
        "            #if (v >= 0) :\n",
        "            print(\" %.2f|\" % v, end=\"\")\n",
        "            #else :\n",
        "             #   print \"%.2f|\"  % v,\n",
        "        print(\"\")\n",
        "\n",
        "def mostrar_politica(P,g) :\n",
        "    for fila in range(g.alto):\n",
        "        print(20*\"-\")\n",
        "        for columna in range(g.ancho):\n",
        "            a = P.get((fila,columna),'')\n",
        "            print(\" %s |\" % a, end=\"\")\n",
        "        print(\"\")"
      ]
    },
    {
      "cell_type": "code",
      "execution_count": 21,
      "metadata": {
        "colab": {
          "base_uri": "https://localhost:8080/"
        },
        "id": "LsSNPU2A6dcX",
        "outputId": "b37679ec-3fdd-4c68-a124-f1d5656c33cb"
      },
      "outputs": [
        {
          "name": "stdout",
          "output_type": "stream",
          "text": [
            "--------------------\n",
            " 0.62| 0.80| 1.00| 0.00|\n",
            "--------------------\n",
            " 0.46| 0.00| 0.80| 0.00|\n",
            "--------------------\n",
            " 0.31| 0.46| 0.62| 0.46|\n"
          ]
        }
      ],
      "source": [
        "# Value Iteration\n",
        "repeticiones = 20\n",
        "iteraciones = 0\n",
        "gamma = 0.9\n",
        "epsilon = 1e-3\n",
        "total_acciones = ('U','D','L','R')\n",
        "mapa = mapa_con_costo()\n",
        "estados = mapa.todos_estados()\n",
        "V = {}\n",
        "for s in estados:\n",
        "    V[s] = 0.0\n",
        "while True:\n",
        "    delta = 0\n",
        "    iteraciones += 1\n",
        "    for s in estados:\n",
        "        if s not in mapa.acciones.keys():\n",
        "            continue\n",
        "        v = V[s]\n",
        "        max_val = float(\"-inf\")\n",
        "        for accion in mapa.acciones[s]:\n",
        "            mapa.fijar_estado(s)\n",
        "            r = mapa.mover(accion)\n",
        "            val = r + gamma * V[mapa.estado_actual()] # acciones deterministicas (probabilidad 1 o 0)\n",
        "            if val > max_val:\n",
        "                max_val = val\n",
        "        V[s] = max_val\n",
        "        delta = max(delta,abs(v-V[s]))\n",
        "\n",
        "    if delta < epsilon or iteraciones >= repeticiones:\n",
        "        mostrar_valores(V,mapa)\n",
        "        break"
      ]
    },
    {
      "cell_type": "code",
      "execution_count": 6,
      "metadata": {
        "colab": {
          "base_uri": "https://localhost:8080/"
        },
        "id": "UIXNvrT26dcZ",
        "outputId": "fc392306-85b9-46c7-927b-ba88f17cb064"
      },
      "outputs": [
        {
          "name": "stdout",
          "output_type": "stream",
          "text": [
            "--------------------\n",
            " R | R | R |  |\n",
            "--------------------\n",
            " U |  | U |  |\n",
            "--------------------\n",
            " U | R | U | L |\n"
          ]
        }
      ],
      "source": [
        "# greedy\n",
        "pi = {}\n",
        "for s in mapa.acciones.keys():\n",
        "    max_val = float(\"-inf\")\n",
        "    for accion in mapa.acciones[s]:\n",
        "        mapa.fijar_estado(s)\n",
        "        r = mapa.mover(accion)\n",
        "        val = r + V[mapa.estado_actual()]\n",
        "        if val > max_val :\n",
        "            max_val = val\n",
        "            max_accion = accion\n",
        "\n",
        "    pi[s] = max_accion\n",
        "\n",
        "mostrar_politica(pi,mapa)"
      ]
    }
  ],
  "metadata": {
    "colab": {
      "provenance": []
    },
    "kernelspec": {
      "display_name": "Python 3",
      "language": "python",
      "name": "python3"
    },
    "language_info": {
      "codemirror_mode": {
        "name": "ipython",
        "version": 3
      },
      "file_extension": ".py",
      "mimetype": "text/x-python",
      "name": "python",
      "nbconvert_exporter": "python",
      "pygments_lexer": "ipython3",
      "version": "3.11.3"
    }
  },
  "nbformat": 4,
  "nbformat_minor": 0
}
