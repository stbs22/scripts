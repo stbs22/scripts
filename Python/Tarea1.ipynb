{
  "nbformat": 4,
  "nbformat_minor": 0,
  "metadata": {
    "colab": {
      "name": "Tarea1.ipynb",
      "provenance": [],
      "collapsed_sections": [],
      "toc_visible": true
    },
    "kernelspec": {
      "name": "python3",
      "display_name": "Python 3",
      "language": "python"
    },
    "language_info": {
      "name": "python",
      "version": "3.9.3"
    }
  },
  "cells": [
    {
      "cell_type": "markdown",
      "metadata": {
        "id": "NOq4A8ZCGhG4"
      },
      "source": [
        "#Tarea 1° Fundameto De Ciencias De Datos\n",
        "- Esteban Hernández.\n",
        "- Matías Hermosilla.\n",
        "- Seccion 1"
      ]
    },
    {
      "cell_type": "code",
      "metadata": {
        "id": "C26GbfgYVk9a"
      },
      "source": [
        "import pandas as pd\n",
        "import matplotlib.pyplot as plt"
      ],
      "execution_count": 4,
      "outputs": []
    },
    {
      "cell_type": "code",
      "metadata": {
        "colab": {
          "base_uri": "https://localhost:8080/"
        },
        "id": "Vzuh-aNuW1xq",
        "outputId": "64c07ae9-c641-4d50-bb4d-c353b0d17f8c"
      },
      "source": [
        "data = pd.read_csv(\"/home/_init_/Documentos/Data/FCD/data.csv\",sep=\";\")\n",
        "print(data)"
      ],
      "execution_count": 5,
      "outputs": [
        {
          "output_type": "stream",
          "name": "stdout",
          "text": [
            "          id    age  gender  height  weight  ap_hi  ap_lo  cholesterol  gluc  \\\n0          0  18393       2     168    62.0    110     80            1     1   \n1          1  20228       1     156    85.0    140     90            3     1   \n2          2  18857       1     165    64.0    130     70            3     1   \n3          3  17623       2     169    82.0    150    100            1     1   \n4          4  17474       1     156    56.0    100     60            1     1   \n...      ...    ...     ...     ...     ...    ...    ...          ...   ...   \n69995  99993  19240       2     168    76.0    120     80            1     1   \n69996  99995  22601       1     158   126.0    140     90            2     2   \n69997  99996  19066       2     183   105.0    180     90            3     1   \n69998  99998  22431       1     163    72.0    135     80            1     2   \n69999  99999  20540       1     170    72.0    120     80            2     1   \n\n       smoke  alco  active  cardio  \n0          0     0       1       0  \n1          0     0       1       1  \n2          0     0       0       1  \n3          0     0       1       1  \n4          0     0       0       0  \n...      ...   ...     ...     ...  \n69995      1     0       1       0  \n69996      0     0       1       1  \n69997      0     1       0       1  \n69998      0     0       0       1  \n69999      0     0       1       0  \n\n[70000 rows x 13 columns]\n"
          ]
        }
      ]
    },
    {
      "cell_type": "markdown",
      "metadata": {
        "id": "8qbyzR4FUSVa"
      },
      "source": [
        "## Variables\n",
        "*   Id: Ordinal.\n",
        "*   Edad: Ratio.\n",
        "*   Género: Nominal.\n",
        "*   Altura: Ratio.\n",
        "*   Peso: Ratio.\n",
        "*   Ap_hi:Interval.\n",
        "*   Ap_lo:Interval.\n",
        "*   Colesterol: Ordinal.\n",
        "*   Glucosa: Ordinal.\n",
        "*   Fumador: Nominal.\n",
        "*   Bebe: Nominal.\n",
        "*   Actividad Física: Nominal.\n",
        "*   E.Cardiovascular: Nominal.\n",
        "\n",
        "\n",
        "\n",
        "\n",
        "\n",
        "\n",
        "\n",
        "\n",
        "\n"
      ]
    },
    {
      "cell_type": "markdown",
      "metadata": {
        "id": "m8EalZOP_9IY"
      },
      "source": [
        "##Discretización"
      ]
    },
    {
      "cell_type": "code",
      "metadata": {
        "colab": {
          "base_uri": "https://localhost:8080/"
        },
        "id": "N9bw27ErqdDR",
        "outputId": "d5ce0568-9c04-4e80-a3ee-26a5ba1416a3"
      },
      "source": [
        "peso=pd.cut(data[\"weight\"], bins=[10,40,70,100,130,170,200])\n",
        "print(pd.cut(data[\"weight\"], bins=[10,40,70,100,130,170,200]).value_counts())"
      ],
      "execution_count": 6,
      "outputs": [
        {
          "output_type": "stream",
          "name": "stdout",
          "text": [
            "(70, 100]     34134\n(40, 70]      32521\n(100, 130]     3049\n(130, 170]      187\n(10, 40]         93\n(170, 200]       15\nName: weight, dtype: int64\n"
          ]
        }
      ]
    },
    {
      "cell_type": "markdown",
      "metadata": {
        "id": "iNCK3YM5syMr"
      },
      "source": [
        "Se utilizó la variable Peso, discretizada por los cuantiles de los datos tomando como máximo el mayor valor y como mínimo el menor valor.\n",
        "La variable peso tendria relación directa con  la condicion física de la persona y diversas condiciones de salud. "
      ]
    },
    {
      "cell_type": "markdown",
      "metadata": {
        "id": "uNoyTWJ8ERCQ"
      },
      "source": [
        "##Errores"
      ]
    },
    {
      "cell_type": "markdown",
      "metadata": {
        "id": "yZKhX-U_7mLe"
      },
      "source": [
        "Analizando los datos, se pudo determinar un patrón en las variables ap_hi y ap_lo, tomando como premisa que ap_hi necesariamente debe ser mayor que ap_lo. A partir de esto identificamos errores en estas variables, ya que algunas muestran un valor mayor en la variable ap_lo y uno menor en la variable ap_hi, lo que se repite en 1234 datos. \n"
      ]
    },
    {
      "cell_type": "code",
      "metadata": {
        "colab": {
          "base_uri": "https://localhost:8080/"
        },
        "id": "523LPllIBq-A",
        "outputId": "88294f39-6e76-4eee-9da9-82dccd485ce4"
      },
      "source": [
        "data_error = data[\"ap_hi\"] < data[\"ap_lo\"]\n",
        "print(pd.value_counts(data_error))"
      ],
      "execution_count": 7,
      "outputs": [
        {
          "output_type": "stream",
          "name": "stdout",
          "text": [
            "False    68766\nTrue      1234\ndtype: int64\n"
          ]
        }
      ]
    },
    {
      "cell_type": "code",
      "execution_count": null,
      "metadata": {},
      "outputs": [],
      "source": []
    }
  ]
}