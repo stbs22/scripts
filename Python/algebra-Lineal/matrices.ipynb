{
 "cells": [
  {
   "cell_type": "markdown",
   "metadata": {},
   "source": [
    "# Algebra Lineal y Optimización para Data Science.\n",
    "### Segundo Semestre 2023\n",
    "\n",
    "**Profesor**: Martín Ríos-Wilson.\n",
    "\n",
    "*Ayudante*: Benjamin Jauregui.\n",
    "\n",
    "\n",
    "Contenidos\n",
    "* Librerías\n",
    "* Definición de matrices con NumPy y SymPy\n",
    "* Álgebra de Matrices\n",
    "\n"
   ]
  },
  {
   "cell_type": "markdown",
   "metadata": {},
   "source": [
    "## Ejercicio 1\n",
    "\n",
    "Una gran empresa de de alimentos ha firmado recientemente un acuerdo para fabricar mezcla de frutos secos para una conocida marca de alimentación. Esta marca fabrica tres versiones de su producto: una para aerolíneas, otra para tiendas de comestibles y otra para gasolineras. Cada versión tiene una mezcla diferente de cacahuetes, pasas y chocolate que sirve de base a la mezcla. Las mezclas base se elaboran en lotes de 15 kg y se envían a un segundo edificio para su envasado.\n",
    "\n",
    "La siguiente tabla contiene la información sobre las mezclas, y cada fila contiene la receta de un lote de 15 kg. También hay información adicional sobre el coste de los ingredientes, el precio que el fabricante puede cobrar por cada mezcla de frutos secos y la cantidad total de ingredientes almacenados.\n",
    "\n",
    "||Pasas (kg/lote)|Cacahuetes (kg/lote)|Chocolate (kg/lote)|Precio de venta (\\$/kg)|Almacenamiento (kg)|Costo (\\$/kg)|\n",
    "|---|---|---|---|---|---|---|\n",
    "|Aerolineas|7|6|2|5|380|3|\n",
    "|Tiendas de comestibles |2|5|8|7|500|5|\n",
    "|Gasolinera|6|4|5|6|620|5|\n",
    "\n",
    "1. Si la empresa desea ocupar todos los ingredientes que tiene almacenados, ¿Cuantos lotes de cada versión (para aerolinea, tienda de comida y gasolinera) tiene que producir? Planteelo como un sistema de ecuaciones y luego transformelo a un sistema matricial $Ax = b$."
   ]
  },
  {
   "cell_type": "markdown",
   "metadata": {},
   "source": [
    "2. Use multiplicación matriz-vector entre una matriz A y un vector b que debe definir usted, para determinar el costo de la empresa de producir un lote de cada tipo de mezcla. Realice a mano la multiplicación y luego programelo en la celda de abajo."
   ]
  },
  {
   "cell_type": "code",
   "execution_count": null,
   "metadata": {},
   "outputs": [],
   "source": [
    "#Defina la matriz del sistema\n",
    "\n",
    "A =\n",
    "\n",
    "#Defina el vector b del sistema\n",
    "\n",
    "b = \n",
    "\n",
    "#Ejecute el comando que retorna la multiplicacion matricial A*b\n",
    "\n",
    "\n",
    "#------\n",
    "\n",
    "#Su codigo aqui\n",
    "\n",
    "#------"
   ]
  },
  {
   "cell_type": "markdown",
   "metadata": {},
   "source": [
    "## Ejercicio 2\n",
    "\n",
    "Una regresión lineal implica un sistema de ecuaciones de la forma $X\\beta = y$. \n",
    "\n",
    "1. Para los siguientes datos y modelo de regresión, identifique y escriba cada parte de la ecuación $(X,\\beta,y)$, ya sea conocido o desconocido. Tenga en cuenta que no se le pide que resuelva este sistema de ecuaciones.\n",
    "\n",
    "|Altura (mtr)|Edad (años)|VO_2 max| ritmo km/hora|\n",
    "|---|---|---|---|\n",
    "|1.50|32|55|8.3|\n",
    "|1.78|23|45|8.3|\n",
    "|1.65|41|44|7.9|\n",
    "|1.9|19|31|9.9|\n",
    "|1.86|27|41|6.9|\n",
    "|1.62|25|60|5.3|\n",
    "\n",
    "Y el modelo es \n",
    "\n",
    "$$ritmo =\\beta_0+\\beta_1*(altura)+\\beta_2*(edad)+\\beta_3*(VO2 max) $$\n",
    "\n",
    "2. ¿Es probable que este sistema de ecuaciones tenga una solución exacta? Justifica tu respuesta. Nuevamente, no tiene que realizar ningún cálculo, este problema es solo para discusión."
   ]
  },
  {
   "cell_type": "markdown",
   "metadata": {},
   "source": [
    "## Ejercicio 3\n",
    "\n",
    "Supongamos que tenemos los datos de 100 paquetes postales con 3 variables: altura $h$, peso $w$ y volumen $v$. Si creamos una matriz de datos $X$ el tamaño de la matriz será $100×3$ y las tres columnas estarán compuestas por las variables altura, peso y volumen. La frase anterior se escribe matemáticamente creando una matriz particionada:\n",
    "\n",
    "$$X=(h|w|v)$$\n",
    "\n",
    "1. Si consideramos la i-esima fila de $X$, ¿A que valores corresponden los elementos de esta fila?\n",
    "\n",
    "2. Suponga que se quiere calcular el vector $c$ de $100$ componentes, tal que en la posición $c_i$ tiene un valor correspondiente a la altura del paquete postal i-esimo, más dos veces su peso menos 3 veces su volumen. ¿Como se puede obtener, mediante operaciones matriciales, el vector $c$?\n",
    "\n"
   ]
  },
  {
   "cell_type": "markdown",
   "metadata": {},
   "source": [
    "## Ejercicio 4\n",
    "\n",
    "Suponga que tenemos la siguiente fórmula matricial\n",
    "\n",
    "$$AX = B$$\n",
    "\n",
    "En donde $ A=\n",
    "\\begin{pmatrix}\n",
    "2 & 1 & 3\\\\\n",
    "1 & 4 & 2\\\\\n",
    "3 & 2 & 1\n",
    "\\end{pmatrix}\n",
    "$\n",
    "\n",
    "y $X=\\begin{pmatrix}\n",
    "5 & 6\\\\ \n",
    "9 & 5 \\\\\n",
    "7 & 8\n",
    "\\end{pmatrix}$.\n",
    "\n",
    "1. Escriba las columnas de $B$ como combinación lineal de las columnas de $A$.\n",
    "\n",
    "2. Realice la multiplicación matricial $AX$. Primero a mano, y lugo programelo en la celda de abajo."
   ]
  },
  {
   "cell_type": "code",
   "execution_count": null,
   "metadata": {},
   "outputs": [],
   "source": [
    "#Defina A\n",
    "\n",
    "A =\n",
    "\n",
    "#Defina X\n",
    "\n",
    "X =\n",
    "\n",
    "#Realice la opereación matricial AX\n",
    "\n",
    "#---------\n",
    "\n",
    "#Su código aquí\n",
    "\n",
    "#---------"
   ]
  },
  {
   "cell_type": "code",
   "execution_count": null,
   "metadata": {},
   "outputs": [],
   "source": []
  },
  {
   "cell_type": "code",
   "execution_count": null,
   "metadata": {},
   "outputs": [],
   "source": []
  },
  {
   "cell_type": "code",
   "execution_count": null,
   "metadata": {},
   "outputs": [],
   "source": []
  },
  {
   "cell_type": "code",
   "execution_count": null,
   "metadata": {},
   "outputs": [],
   "source": []
  },
  {
   "cell_type": "code",
   "execution_count": null,
   "metadata": {},
   "outputs": [],
   "source": []
  }
 ],
 "metadata": {
  "kernelspec": {
   "display_name": "Python 3 (ipykernel)",
   "language": "python",
   "name": "python3"
  },
  "language_info": {
   "codemirror_mode": {
    "name": "ipython",
    "version": 3
   },
   "file_extension": ".py",
   "mimetype": "text/x-python",
   "name": "python",
   "nbconvert_exporter": "python",
   "pygments_lexer": "ipython3",
   "version": "3.9.12"
  },
  "vp": {
   "vp_config_version": "1.0.0",
   "vp_menu_width": 273,
   "vp_note_display": false,
   "vp_note_width": 0,
   "vp_position": {
    "width": 278
   },
   "vp_section_display": false,
   "vp_signature": "VisualPython"
  }
 },
 "nbformat": 4,
 "nbformat_minor": 2
}
